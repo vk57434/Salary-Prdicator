{
 "cells": [
  {
   "cell_type": "code",
   "execution_count": 1,
   "id": "8807fed9-22b4-44a1-9d3f-d689a5b14b90",
   "metadata": {},
   "outputs": [],
   "source": [
    "import pandas"
   ]
  },
  {
   "cell_type": "code",
   "execution_count": 6,
   "id": "1fc2691c-0c23-4b0e-9c28-e1c945b15e5d",
   "metadata": {},
   "outputs": [],
   "source": [
    "dataset = pandas.read_csv(\"marks_dataset - Sheet1.csv\")"
   ]
  },
  {
   "cell_type": "code",
   "execution_count": 7,
   "id": "8de08b0a-d474-4a90-87fc-d11ef58f9a15",
   "metadata": {},
   "outputs": [
    {
     "data": {
      "text/plain": [
       "pandas.core.frame.DataFrame"
      ]
     },
     "execution_count": 7,
     "metadata": {},
     "output_type": "execute_result"
    }
   ],
   "source": [
    "type(dataset)"
   ]
  },
  {
   "cell_type": "code",
   "execution_count": 8,
   "id": "38349a26-7131-4261-adeb-76be4cfd158e",
   "metadata": {},
   "outputs": [
    {
     "data": {
      "text/plain": [
       "0    5\n",
       "1    2\n",
       "2    7\n",
       "3    4\n",
       "4    3\n",
       "Name: hrs, dtype: int64"
      ]
     },
     "execution_count": 8,
     "metadata": {},
     "output_type": "execute_result"
    }
   ],
   "source": [
    "dataset['hrs']"
   ]
  },
  {
   "cell_type": "code",
   "execution_count": null,
   "id": "73bdeba6-7975-4b83-806b-fc4b45cee933",
   "metadata": {},
   "outputs": [],
   "source": []
  }
 ],
 "metadata": {
  "kernelspec": {
   "display_name": "Python 3 (ipykernel)",
   "language": "python",
   "name": "python3"
  },
  "language_info": {
   "codemirror_mode": {
    "name": "ipython",
    "version": 3
   },
   "file_extension": ".py",
   "mimetype": "text/x-python",
   "name": "python",
   "nbconvert_exporter": "python",
   "pygments_lexer": "ipython3",
   "version": "3.12.4"
  }
 },
 "nbformat": 4,
 "nbformat_minor": 5
}
